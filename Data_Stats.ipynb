{
 "cells": [
  {
   "cell_type": "code",
   "execution_count": 1,
   "metadata": {},
   "outputs": [],
   "source": [
    "import pandas as pd\n",
    "from matplotlib import rcParams\n",
    "rcParams.update({'figure.autolayout': True})\n",
    "\n",
    "import numpy as np\n",
    "import matplotlib.pyplot as plt\n",
    "\n",
    "plt.gcf().subplots_adjust(bottom=0.15)"
   ]
  },
  {
   "cell_type": "code",
   "execution_count": 2,
   "metadata": {},
   "outputs": [
    {
     "name": "stdout",
     "output_type": "stream",
     "text": [
      "Populating the interactive namespace from numpy and matplotlib\n"
     ]
    }
   ],
   "source": [
    "%pylab inline"
   ]
  },
  {
   "cell_type": "code",
   "execution_count": 3,
   "metadata": {},
   "outputs": [],
   "source": [
    "movie_credit_file = './tmdb-5000-movie-dataset/tmdb_5000_credits.csv'\n",
    "movie_file = './tmdb-5000-movie-dataset/tmdb_5000_movies.csv'\n",
    "\n",
    "df_credit_file = pd.read_csv(movie_credit_file)\n",
    "df_movie_file = pd.read_csv(movie_file)"
   ]
  },
  {
   "cell_type": "code",
   "execution_count": 4,
   "metadata": {},
   "outputs": [],
   "source": [
    "#rename columns for subsequent merge\n",
    "df_credit_file = df_credit_file.rename(columns = {'movie_id': 'id', 'title': 'original_title', 'cast':'cast', 'crew':'crew'})\n",
    "\n",
    "#merge\n",
    "df_merged = df_movie_file.merge(df_movie_file, how='left', on = 'original_title' )\n",
    "\n",
    "#columns relevant for downloading images\n",
    "df_data_download = df_merged[['id_x','original_title']]"
   ]
  },
  {
   "cell_type": "code",
   "execution_count": 5,
   "metadata": {},
   "outputs": [
    {
     "data": {
      "text/plain": [
       "Index(['id', 'original_title', 'cast', 'crew'], dtype='object')"
      ]
     },
     "execution_count": 5,
     "metadata": {},
     "output_type": "execute_result"
    }
   ],
   "source": [
    "df_credit_file.columns"
   ]
  },
  {
   "cell_type": "code",
   "execution_count": 6,
   "metadata": {},
   "outputs": [
    {
     "name": "stdout",
     "output_type": "stream",
     "text": [
      "4807\n",
      "3732\n",
      "Number of entries eliminated: 1075\n"
     ]
    }
   ],
   "source": [
    "#elimate the entries below minBudget. We don't know if the $0 budgets are missing values or mistakes, \n",
    "#so for now we're leaving them out\n",
    "\n",
    "minBudget = 10000\n",
    "\n",
    "df_dropped_minBudgets = df_merged.loc[df_merged['budget_x'] > minBudget]\n",
    "\n",
    "print(len(df_merged))\n",
    "print(len(df_dropped_minBudgets))\n",
    "print('Number of entries eliminated: %s' % (len(df_merged)-len(df_dropped_minBudgets)))"
   ]
  },
  {
   "cell_type": "code",
   "execution_count": 7,
   "metadata": {},
   "outputs": [
    {
     "data": {
      "text/plain": [
       "Index(['budget_x', 'genres_x', 'homepage_x', 'id_x', 'keywords_x',\n",
       "       'original_language_x', 'original_title', 'overview_x', 'popularity_x',\n",
       "       'production_companies_x', 'production_countries_x', 'release_date_x',\n",
       "       'revenue_x', 'runtime_x', 'spoken_languages_x', 'status_x', 'tagline_x',\n",
       "       'title_x', 'vote_average_x', 'vote_count_x', 'budget_y', 'genres_y',\n",
       "       'homepage_y', 'id_y', 'keywords_y', 'original_language_y', 'overview_y',\n",
       "       'popularity_y', 'production_companies_y', 'production_countries_y',\n",
       "       'release_date_y', 'revenue_y', 'runtime_y', 'spoken_languages_y',\n",
       "       'status_y', 'tagline_y', 'title_y', 'vote_average_y', 'vote_count_y'],\n",
       "      dtype='object')"
      ]
     },
     "execution_count": 7,
     "metadata": {},
     "output_type": "execute_result"
    }
   ],
   "source": [
    "df_merged.columns"
   ]
  },
  {
   "cell_type": "code",
   "execution_count": 8,
   "metadata": {},
   "outputs": [
    {
     "name": "stdout",
     "output_type": "stream",
     "text": [
      "3282    [{\"id\": 16, \"name\": \"Animation\"}, {\"id\": 10751...\n",
      "Name: genres_x, dtype: object\n"
     ]
    }
   ],
   "source": [
    "IDNumber = 26963\n",
    "q = df_merged.loc[df_merged['id_x'] == IDNumber] \n",
    "genres = q[\"genres_x\"]\n",
    "print(str(genres))"
   ]
  },
  {
   "cell_type": "code",
   "execution_count": null,
   "metadata": {},
   "outputs": [
    {
     "data": {
      "text/plain": [
       "Text(0,0.5,'Number of entries')"
      ]
     },
     "execution_count": 16,
     "metadata": {},
     "output_type": "execute_result"
    }
   ],
   "source": [
    "#the following is to visualize the distribution of the budget values\n",
    "\n",
    "\n",
    "#to visualize\n",
    "df_budget = df_dropped_minBudgets.groupby(['budget_x']).count()\n",
    "df_budget.plot(kind='bar', legend=False, figsize=(15,5))\n",
    "plt.ylabel('Number of entries')\n"
   ]
  },
  {
   "cell_type": "code",
   "execution_count": 9,
   "metadata": {},
   "outputs": [
    {
     "data": {
      "text/plain": [
       "count    3.732000e+03\n",
       "mean     3.739005e+07\n",
       "std      4.268819e+07\n",
       "min      1.200000e+04\n",
       "0%       1.200000e+04\n",
       "10%      2.600000e+06\n",
       "20%      6.400000e+06\n",
       "30%      1.100000e+07\n",
       "40%      1.650000e+07\n",
       "50%      2.400000e+07\n",
       "60%      3.000000e+07\n",
       "70%      4.000000e+07\n",
       "80%      6.000000e+07\n",
       "90%      9.000000e+07\n",
       "100%     3.800000e+08\n",
       "max      3.800000e+08\n",
       "Name: budget_x, dtype: float64"
      ]
     },
     "execution_count": 9,
     "metadata": {},
     "output_type": "execute_result"
    }
   ],
   "source": [
    "#to get statistics about the budget values\n",
    "\n",
    "df_dropped_minBudgets = df_dropped_minBudgets.sort_values(by=['budget_x'])\n",
    "\n",
    "percentiles = [0, 0.1, 0.2, 0.3, 0.4, 0.5, 0.6, 0.7, 0.8, 0.9, 1.0]\n",
    "descriptives = df_dropped_minBudgets.budget_x.describe(percentiles=percentiles)\n",
    "\n",
    "descriptives"
   ]
  },
  {
   "cell_type": "code",
   "execution_count": 10,
   "metadata": {},
   "outputs": [
    {
     "name": "stdout",
     "output_type": "stream",
     "text": [
      "10\n",
      "11\n"
     ]
    }
   ],
   "source": [
    "#to make bins and labels that correspond to the percentages in \"descriptives\"\n",
    "\n",
    "bins = descriptives.values[4:15]\n",
    "labels = np.arange(0,10)\n",
    "\n",
    "bins[0] =0\n",
    "\n",
    "print(len(labels))\n",
    "print(len(bins))"
   ]
  },
  {
   "cell_type": "code",
   "execution_count": 11,
   "metadata": {},
   "outputs": [],
   "source": [
    "#####df_budgets is the dataframe with budgetlabels and only includes entries with budgets > minBudget\n",
    "\n",
    "df_dropped_minBudgets['budget_labels'] = pd.cut(df_dropped_minBudgets['budget_x'], bins=bins, labels=labels)\n",
    "\n",
    "df_budgets = df_dropped_minBudgets[['budget_x', 'id_x', 'original_title', 'budget_labels']]"
   ]
  },
  {
   "cell_type": "code",
   "execution_count": 17,
   "metadata": {},
   "outputs": [],
   "source": [
    "# The following is used to vectorize the genres. \n",
    "\n",
    "\n",
    "###NOTE: by using the following command, we are using the full dataset again,\n",
    "###and INCLUDING entries with budgets < minBudget\n",
    "\n",
    "df_genres = df_merged[['original_title', 'id_x', 'genres_x']]\n",
    "\n",
    "##### Use this command if you want to make sure we're looking at the \n",
    "#### same entries as in df_budgets. i.e. EXCLUDING entries with budgets < minBudget\n",
    "\n",
    "# df_genres = df_dropped_minBudgets[['original_title', 'id_x', 'genres_x']]"
   ]
  },
  {
   "cell_type": "code",
   "execution_count": 18,
   "metadata": {},
   "outputs": [
    {
     "data": {
      "text/html": [
       "<div>\n",
       "<style scoped>\n",
       "    .dataframe tbody tr th:only-of-type {\n",
       "        vertical-align: middle;\n",
       "    }\n",
       "\n",
       "    .dataframe tbody tr th {\n",
       "        vertical-align: top;\n",
       "    }\n",
       "\n",
       "    .dataframe thead th {\n",
       "        text-align: right;\n",
       "    }\n",
       "</style>\n",
       "<table border=\"1\" class=\"dataframe\">\n",
       "  <thead>\n",
       "    <tr style=\"text-align: right;\">\n",
       "      <th></th>\n",
       "      <th>original_title</th>\n",
       "      <th>id_x</th>\n",
       "      <th>genres_x</th>\n",
       "    </tr>\n",
       "  </thead>\n",
       "  <tbody>\n",
       "    <tr>\n",
       "      <th>0</th>\n",
       "      <td>Avatar</td>\n",
       "      <td>19995</td>\n",
       "      <td>[{\"id\": 28, \"name\": \"Action\"}, {\"id\": 12, \"nam...</td>\n",
       "    </tr>\n",
       "    <tr>\n",
       "      <th>1</th>\n",
       "      <td>Pirates of the Caribbean: At World's End</td>\n",
       "      <td>285</td>\n",
       "      <td>[{\"id\": 12, \"name\": \"Adventure\"}, {\"id\": 14, \"...</td>\n",
       "    </tr>\n",
       "    <tr>\n",
       "      <th>2</th>\n",
       "      <td>Spectre</td>\n",
       "      <td>206647</td>\n",
       "      <td>[{\"id\": 28, \"name\": \"Action\"}, {\"id\": 12, \"nam...</td>\n",
       "    </tr>\n",
       "    <tr>\n",
       "      <th>3</th>\n",
       "      <td>The Dark Knight Rises</td>\n",
       "      <td>49026</td>\n",
       "      <td>[{\"id\": 28, \"name\": \"Action\"}, {\"id\": 80, \"nam...</td>\n",
       "    </tr>\n",
       "    <tr>\n",
       "      <th>4</th>\n",
       "      <td>John Carter</td>\n",
       "      <td>49529</td>\n",
       "      <td>[{\"id\": 28, \"name\": \"Action\"}, {\"id\": 12, \"nam...</td>\n",
       "    </tr>\n",
       "  </tbody>\n",
       "</table>\n",
       "</div>"
      ],
      "text/plain": [
       "                             original_title    id_x  \\\n",
       "0                                    Avatar   19995   \n",
       "1  Pirates of the Caribbean: At World's End     285   \n",
       "2                                   Spectre  206647   \n",
       "3                     The Dark Knight Rises   49026   \n",
       "4                               John Carter   49529   \n",
       "\n",
       "                                            genres_x  \n",
       "0  [{\"id\": 28, \"name\": \"Action\"}, {\"id\": 12, \"nam...  \n",
       "1  [{\"id\": 12, \"name\": \"Adventure\"}, {\"id\": 14, \"...  \n",
       "2  [{\"id\": 28, \"name\": \"Action\"}, {\"id\": 12, \"nam...  \n",
       "3  [{\"id\": 28, \"name\": \"Action\"}, {\"id\": 80, \"nam...  \n",
       "4  [{\"id\": 28, \"name\": \"Action\"}, {\"id\": 12, \"nam...  "
      ]
     },
     "execution_count": 18,
     "metadata": {},
     "output_type": "execute_result"
    }
   ],
   "source": [
    "df_genres.head()"
   ]
  },
  {
   "cell_type": "code",
   "execution_count": 19,
   "metadata": {},
   "outputs": [],
   "source": [
    "def lookForGenre(genre):\n",
    "    df_genres[genre] = (df_genres['genres_x'].str.contains(genre))*1    "
   ]
  },
  {
   "cell_type": "code",
   "execution_count": 28,
   "metadata": {},
   "outputs": [
    {
     "name": "stderr",
     "output_type": "stream",
     "text": [
      "/home/shared/anaconda3/lib/python3.6/site-packages/ipykernel_launcher.py:2: SettingWithCopyWarning: \n",
      "A value is trying to be set on a copy of a slice from a DataFrame.\n",
      "Try using .loc[row_indexer,col_indexer] = value instead\n",
      "\n",
      "See the caveats in the documentation: http://pandas.pydata.org/pandas-docs/stable/indexing.html#indexing-view-versus-copy\n",
      "  \n",
      "/home/shared/anaconda3/lib/python3.6/site-packages/ipykernel_launcher.py:12: SettingWithCopyWarning: \n",
      "A value is trying to be set on a copy of a slice from a DataFrame.\n",
      "Try using .loc[row_indexer,col_indexer] = value instead\n",
      "\n",
      "See the caveats in the documentation: http://pandas.pydata.org/pandas-docs/stable/indexing.html#indexing-view-versus-copy\n",
      "  if sys.path[0] == '':\n"
     ]
    },
    {
     "data": {
      "text/plain": [
       "Action                     1155.0\n",
       "Thriller                   1274.0\n",
       "Adventure                   791.0\n",
       "Animation                   234.0\n",
       "Western                      82.0\n",
       "Comedy                     1723.0\n",
       "Crime                       697.0\n",
       "Drama                      2299.0\n",
       "Horror                      519.0\n",
       "Romance                     894.0\n",
       "Science Fiction             536.0\n",
       "Fantasy                     425.0\n",
       "Family                      514.0\n",
       "Documentary                 110.0\n",
       "History                     197.0\n",
       "Music                       185.0\n",
       "Mystery                     348.0\n",
       "TV Movie                      8.0\n",
       "War                         144.0\n",
       "Total genres per movie    12135.0\n",
       "dtype: float64"
      ]
     },
     "execution_count": 28,
     "metadata": {},
     "output_type": "execute_result"
    }
   ],
   "source": [
    "#We used all genres listed in TMDB\n",
    "\n",
    "allGenres = ['Action', 'Thriller', 'Adventure', 'Animation', 'Western', 'Comedy', 'Crime', 'Drama', 'Horror', \n",
    "             'Romance', 'Science Fiction', 'Fantasy',  'Family', 'Documentary', 'History', 'Music', 'Mystery',\n",
    "             'TV Movie', 'War']\n",
    "\n",
    "for genre in allGenres:\n",
    "    lookForGenre(genre)\n",
    "\n",
    "    \n",
    "#This provides a count of each genre\n",
    "df_genres['Total genres per movie'] = df_genres[df_genres.columns[3:]].sum(axis=1)\n",
    "\n",
    "df_totals = np.sum(df_genres[df_genres.columns[3:]])\n",
    "\n",
    "df_totals"
   ]
  },
  {
   "cell_type": "code",
   "execution_count": 51,
   "metadata": {},
   "outputs": [
    {
     "data": {
      "text/plain": [
       "Text(0,0.5,'Number of movies')"
      ]
     },
     "execution_count": 51,
     "metadata": {},
     "output_type": "execute_result"
    },
    {
     "name": "stderr",
     "output_type": "stream",
     "text": [
      "/home/shared/anaconda3/lib/python3.6/site-packages/matplotlib/figure.py:2022: UserWarning: This figure includes Axes that are not compatible with tight_layout, so results might be incorrect.\n",
      "  warnings.warn(\"This figure includes Axes that are not compatible \"\n"
     ]
    },
    {
     "data": {
      "image/png": "[encoded data removed]",
      "text/plain": [
       "<matplotlib.figure.Figure at 0x7ffb618c6a58>"
      ]
     },
     "metadata": {},
     "output_type": "display_data"
    }
   ],
   "source": [
    "df_totals = np.sum(df_genres[df_genres.columns[3:-1]])\n",
    "\n",
    "df_totals.sort_values(ascending = True).plot(kind='bar', legend=False, figsize=(15,5))\n",
    "plt.ylabel('Number of movies')\n"
   ]
  },
  {
   "cell_type": "code",
   "execution_count": 52,
   "metadata": {},
   "outputs": [],
   "source": [
    "df_genres_updated = df_genres.loc[df_genres['Total genres per movie'] > 0]\n",
    "\n",
    "# genreList = df_genres.to_csv(\"genre_binary_list.csv\")"
   ]
  },
  {
   "cell_type": "code",
   "execution_count": 56,
   "metadata": {},
   "outputs": [
    {
     "name": "stdout",
     "output_type": "stream",
     "text": [
      "Median: 2.0\n",
      "Mean: 2.524443519866861\n",
      "Variance: 1.257515682632809\n"
     ]
    }
   ],
   "source": [
    "print('Median: %s' % np.median(df_genres['Total genres per movie']))\n",
    "print('Mean: %s' % np.mean(df_genres['Total genres per movie']))\n",
    "print('Variance: %s' % np.var(df_genres['Total genres per movie']))"
   ]
  },
  {
   "cell_type": "code",
   "execution_count": 55,
   "metadata": {},
   "outputs": [
    {
     "name": "stdout",
     "output_type": "stream",
     "text": [
      "Median: 2.0\n",
      "Mean: 2.539234149403641\n",
      "Variance: 1.227326553041831\n"
     ]
    }
   ],
   "source": [
    "print('Median: %s' % np.median(df_genres_updated['Total genres per movie']))\n",
    "print('Mean: %s' % np.mean(df_genres_updated['Total genres per movie']))\n",
    "print('Variance: %s' % np.var(df_genres_updated['Total genres per movie']))"
   ]
  },
  {
   "cell_type": "code",
   "execution_count": 41,
   "metadata": {},
   "outputs": [
    {
     "data": {
      "text/plain": [
       "4779"
      ]
     },
     "execution_count": 41,
     "metadata": {},
     "output_type": "execute_result"
    }
   ],
   "source": [
    "len(df_genres)\n",
    "len(df_genres_updated)"
   ]
  },
  {
   "cell_type": "code",
   "execution_count": null,
   "metadata": {},
   "outputs": [],
   "source": [
    "genreList = df_genres.to_csv(\"genre_binary_list.csv\")"
   ]
  },
  {
   "cell_type": "code",
   "execution_count": 38,
   "metadata": {},
   "outputs": [
    {
     "data": {
      "text/plain": [
       "28"
      ]
     },
     "execution_count": 38,
     "metadata": {},
     "output_type": "execute_result"
    }
   ],
   "source": [
    "df_noGenres = df_genres.loc[df_genres['Total genres per movie'] == 0]\n",
    "len(df_noGenres)"
   ]
  },
  {
   "cell_type": "code",
   "execution_count": 44,
   "metadata": {},
   "outputs": [
    {
     "name": "stdout",
     "output_type": "stream",
     "text": [
      "[191229, 346081, 371085, 48382, 325140, 357834, 137955, 206412, 219716, 335874, 279759, 331493, 294550, 380097, 297100, 325579, 198370, 328307, 281189, 162396, 365052, 300327, 320435, 194588, 176074, 282128, 38786, 126186]\n"
     ]
    }
   ],
   "source": [
    "print(list(df_noGenres['id_x']))"
   ]
  },
  {
   "cell_type": "code",
   "execution_count": null,
   "metadata": {},
   "outputs": [],
   "source": []
  }
 ],
 "metadata": {
  "kernelspec": {
   "display_name": "Python 3",
   "language": "python",
   "name": "python3"
  },
  "language_info": {
   "codemirror_mode": {
    "name": "ipython",
    "version": 3
   },
   "file_extension": ".py",
   "mimetype": "text/x-python",
   "name": "python",
   "nbconvert_exporter": "python",
   "pygments_lexer": "ipython3",
   "version": "3.6.4"
  }
 },
 "nbformat": 4,
 "nbformat_minor": 1
}
