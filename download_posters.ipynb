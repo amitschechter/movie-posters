{
 "cells": [
  {
   "cell_type": "code",
   "execution_count": 3,
   "metadata": {},
   "outputs": [],
   "source": [
    "import os\n",
    "from os import listdir\n",
    "from os.path import isfile, join\n",
    "import glob\n",
    "try:\n",
    "    import urllib.request as urllib2\n",
    "except ImportError:\n",
    "    import urllib2\n",
    "\n",
    "import requests\n",
    "import json\n",
    "import time\n",
    "import itertools\n",
    "import os\n",
    "import tmdbsimple as tmdb\n",
    "import numpy as np\n",
    "import random\n",
    "import matplotlib\n",
    "import matplotlib.pyplot as plt\n",
    "import seaborn as sns\n",
    "import pickle\n",
    "import pandas as pd\n",
    "import csv"
   ]
  },
  {
   "cell_type": "code",
   "execution_count": 4,
   "metadata": {},
   "outputs": [],
   "source": [
    "movie_posters_path = os.path.abspath(os.path.join('__file__' ,\"../\"))"
   ]
  },
  {
   "cell_type": "code",
   "execution_count": 5,
   "metadata": {},
   "outputs": [
    {
     "name": "stdout",
     "output_type": "stream",
     "text": [
      "Finished reading CSV.\n"
     ]
    }
   ],
   "source": [
    "import pandas as pd\n",
    "\n",
    "project_path = os.path.abspath(os.path.join('__file__' ,\"../..\"))\n",
    "data_dir = os.path.join(project_path, 'Data')\n",
    "file_path = os.path.join(data_dir, 'tmdb-5000-movie-dataset/tmdb_5000_movies.csv')\n",
    "cols = [\"id\", \"title\", \"genres\"]\n",
    "data = pd.read_csv(file_path, header=0, usecols=cols)\n",
    "print('Finished reading CSV.')"
   ]
  },
  {
   "cell_type": "code",
   "execution_count": 6,
   "metadata": {},
   "outputs": [
    {
     "name": "stdout",
     "output_type": "stream",
     "text": [
      "Folder already exists\n"
     ]
    }
   ],
   "source": [
    "poster_folder='posters_final_with_id/'\n",
    "if poster_folder.split('/')[0] in os.listdir(movie_posters_path):\n",
    "    print('Folder already exists')\n",
    "else:\n",
    "    os.mkdir(movie_posters_path+'/'+poster_folder)\n",
    "    print('Created Folder')"
   ]
  },
  {
   "cell_type": "code",
   "execution_count": 17,
   "metadata": {},
   "outputs": [],
   "source": [
    "api_key = '99259b4843bc81e609e39b4ac7905460' #Enter your own API key here to run the code below. \n",
    "# Generate your own API key as explained above :)\n",
    "tmdb.API_KEY = api_key #This sets the API key setting for the tmdb object\n",
    "search = tmdb.Search() #this instantiates a tmdb \"search\" object which allows your to search for the movie\n",
    "\n",
    "def grab_poster_tmdb(movie_title, movie_id):\n",
    "    response = search.movie(query=movie_title)\n",
    "    id=response['results'][0]['id']\n",
    "    movie = tmdb.Movies(id)\n",
    "    posterp = movie.info()['poster_path']\n",
    "    url = 'image.tmdb.org/t/p/original'+posterp\n",
    "    file_name = 'm_' + str(movie_id) +'.jpg'\n",
    "    file_path = poster_folder + file_name\n",
    "    strcmd='wget -O ' + file_path + ' ' + url\n",
    "    os.system(strcmd)\n",
    "    return file_path"
   ]
  },
  {
   "cell_type": "code",
   "execution_count": 18,
   "metadata": {},
   "outputs": [],
   "source": [
    "def listdir_nohidden(path):\n",
    "    return glob.glob(os.path.join(path, '*'))"
   ]
  },
  {
   "cell_type": "code",
   "execution_count": 21,
   "metadata": {},
   "outputs": [
    {
     "name": "stdout",
     "output_type": "stream",
     "text": [
      "Done with  300  movies!\n",
      "Done with  600  movies!\n",
      "Done with  900  movies!\n",
      "Done with  1200  movies!\n",
      "Done with  1500  movies!\n",
      "Done with  1800  movies!\n",
      "Done with  2100  movies!\n",
      "Done with  2400  movies!\n",
      "Done with  2700  movies!\n",
      "failed on movie:  Dude, Where’s My Car?\n",
      "file is missing in directory:  None\n",
      "failed on movie:  Quest for Fire\n",
      "file is missing in directory:  None\n",
      "Done with  3000  movies!\n",
      "failed on movie:  I Am Love\n",
      "file is missing in directory:  None\n",
      "Done with  3300  movies!\n",
      "Done with  3600  movies!\n",
      "Done with  3900  movies!\n",
      "failed on movie:  Hum To Mohabbat Karega\n",
      "file is missing in directory:  None\n",
      "Done with  4200  movies!\n",
      "failed on movie:  Cry_Wolf\n",
      "file is missing in directory:  None\n",
      "failed on movie:  Sparkler\n",
      "file is missing in directory:  None\n",
      "Done with  4500  movies!\n",
      "failed on movie:  Groove\n",
      "file is missing in directory:  None\n",
      "failed on movie:  America Is Still the Place\n",
      "file is missing in directory:  None\n",
      "failed on movie:  Midnight Cabaret\n",
      "file is missing in directory:  None\n",
      "failed on movie:  Death Calls\n",
      "file is missing in directory:  None\n",
      "failed on movie:  UnDivided\n",
      "file is missing in directory:  None\n",
      "Done with  4800  movies!\n"
     ]
    }
   ],
   "source": [
    "counter=0\n",
    "missin_files = []\n",
    "for index, row in data.iterrows():\n",
    "    movie_id, title = row[1], row[2]\n",
    "    if counter%300==0 and counter!=0:\n",
    "        print(\"Done with \",counter,\" movies!\")\n",
    "    file_name = None\n",
    "    try:\n",
    "        file_name = grab_poster_tmdb(title, movie_id)\n",
    "    except:\n",
    "        try:\n",
    "            time.sleep(3)\n",
    "            file_name = grab_poster_tmdb(title, movie_id)\n",
    "        except:\n",
    "            print(\"failed on movie: \", title)\n",
    "    if file_name not in listdir_nohidden(poster_folder):\n",
    "        print('file is missing in directory: ', file_name)\n",
    "        missin_files.append((file_name, movie_id, title))\n",
    "    counter += 1"
   ]
  },
  {
   "cell_type": "code",
   "execution_count": null,
   "metadata": {},
   "outputs": [],
   "source": []
  }
 ],
 "metadata": {
  "kernelspec": {
   "display_name": "Python 3",
   "language": "python",
   "name": "python3"
  },
  "language_info": {
   "codemirror_mode": {
    "name": "ipython",
    "version": 3
   },
   "file_extension": ".py",
   "mimetype": "text/x-python",
   "name": "python",
   "nbconvert_exporter": "python",
   "pygments_lexer": "ipython3",
   "version": "3.6.4"
  }
 },
 "nbformat": 4,
 "nbformat_minor": 2
}
