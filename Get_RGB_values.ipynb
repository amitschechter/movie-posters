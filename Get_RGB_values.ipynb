{
 "cells": [
  {
   "cell_type": "code",
   "execution_count": 1,
   "metadata": {},
   "outputs": [],
   "source": [
    "# from __future__ import print_function, division\n",
    "\n",
    "import numpy as np\n",
    "import pandas as pd\n",
    "from PIL import Image\n",
    "from scipy import misc"
   ]
  },
  {
   "cell_type": "code",
   "execution_count": 4,
   "metadata": {},
   "outputs": [],
   "source": [
    "images_folder = 'Data/posters_images/'\n",
    "all_posters = 'filename_genre_labels.csv'\n",
    "\n",
    "            \n",
    "all_filenames = pd.read_csv(all_posters)        \n",
    "        \n",
    "filenames = all_filenames['filename']\n",
    "\n",
    "Mean_R_vals = []\n",
    "StDev_R_vals = []\n",
    "Mean_G_vals = []\n",
    "StDev_G_vals = []\n",
    "Mean_B_vals = []\n",
    "StDev_B_vals = []"
   ]
  },
  {
   "cell_type": "code",
   "execution_count": 5,
   "metadata": {},
   "outputs": [
    {
     "name": "stdout",
     "output_type": "stream",
     "text": [
      "0\n"
     ]
    },
    {
     "name": "stderr",
     "output_type": "stream",
     "text": [
      "/home/shared/anaconda3/lib/python3.6/site-packages/ipykernel_launcher.py:5: DeprecationWarning: `imread` is deprecated!\n",
      "`imread` is deprecated in SciPy 1.0.0, and will be removed in 1.2.0.\n",
      "Use ``imageio.imread`` instead.\n",
      "  \"\"\"\n"
     ]
    },
    {
     "name": "stdout",
     "output_type": "stream",
     "text": [
      "100\n",
      "200\n",
      "300\n",
      "400\n",
      "500\n",
      "600\n",
      "700\n",
      "800\n",
      "900\n"
     ]
    }
   ],
   "source": [
    "image_arrays = []\n",
    "\n",
    "for idx, i in enumerate(filenames[:1000]):\n",
    "    if idx%100==0: print(idx)\n",
    "    image = misc.imread('Data/posters_images/'+i)\n",
    "    image_arrays.append(image)"
   ]
  },
  {
   "cell_type": "code",
   "execution_count": 7,
   "metadata": {},
   "outputs": [],
   "source": [
    "for im in image_arrays:    \n",
    "    Mean_R_vals.append(np.mean(im[:, :, 0]))\n",
    "    StDev_R_vals.append(np.std(im[:, :, 0]))\n",
    "    Mean_G_vals.append(np.mean(im[:, :, 1]))\n",
    "    StDev_G_vals.append(np.std(im[:, :, 1]))\n",
    "    Mean_B_vals.append(np.mean(im[:, :, 2]))\n",
    "    StDev_B_vals.append(np.std(im[:, :, 2]))"
   ]
  },
  {
   "cell_type": "code",
   "execution_count": null,
   "metadata": {},
   "outputs": [],
   "source": []
  },
  {
   "cell_type": "markdown",
   "metadata": {},
   "source": [
    "#######The Following cells were run when the entire dataset had been loaded"
   ]
  },
  {
   "cell_type": "code",
   "execution_count": 17,
   "metadata": {},
   "outputs": [
    {
     "data": {
      "text/plain": [
       "4776"
      ]
     },
     "execution_count": 17,
     "metadata": {},
     "output_type": "execute_result"
    }
   ],
   "source": [
    "len(Mean_R_vals)"
   ]
  },
  {
   "cell_type": "code",
   "execution_count": 20,
   "metadata": {},
   "outputs": [
    {
     "name": "stdout",
     "output_type": "stream",
     "text": [
      "5.211976\n",
      "249.7655119047619\n",
      "9.769048593238725\n",
      "123.57237281903002\n",
      "3.8817613815858754\n",
      "244.47491733333334\n",
      "9.183907702802124\n",
      "123.03973866490652\n",
      "1.988786\n",
      "246.212522\n",
      "4.039716522175452\n",
      "121.05004562754105\n"
     ]
    }
   ],
   "source": [
    "print(min(Mean_R_vals))\n",
    "print(max(Mean_R_vals))\n",
    "print(min(StDev_R_vals))\n",
    "print(max(StDev_R_vals))\n",
    "print(min(Mean_G_vals))\n",
    "print(max(Mean_G_vals))\n",
    "print(min(StDev_G_vals))\n",
    "print(max(StDev_G_vals))\n",
    "print(min(Mean_B_vals))\n",
    "print(max(Mean_B_vals))\n",
    "print(min(StDev_B_vals))\n",
    "print(max(StDev_B_vals))"
   ]
  },
  {
   "cell_type": "code",
   "execution_count": 21,
   "metadata": {},
   "outputs": [
    {
     "name": "stdout",
     "output_type": "stream",
     "text": [
      "[118.3075274651622, 105.53828801046244, 97.64862272089236]\n",
      "[15.758138233601338, 73.32240240668409, 70.26765643334008]\n"
     ]
    }
   ],
   "source": [
    "Mean_RGB_vals = [np.mean(Mean_R_vals), np.mean(Mean_G_vals), np.mean(Mean_B_vals)]\n",
    "Std_RGB_vals = [np.std(StDev_R_vals), np.mean(StDev_G_vals), np.mean(StDev_B_vals)]"
   ]
  },
  {
   "cell_type": "code",
   "execution_count": 22,
   "metadata": {},
   "outputs": [
    {
     "name": "stdout",
     "output_type": "stream",
     "text": [
      "Mean RGB values: [118.3075274651622, 105.53828801046244, 97.64862272089236]\n",
      "StdDev RGB values: [15.758138233601338, 73.32240240668409, 70.26765643334008]\n"
     ]
    }
   ],
   "source": [
    "print('Mean RGB values: %s' %(Mean_RGB_vals))\n",
    "print('StdDev RGB values: %s' %(Std_RGB_vals))"
   ]
  },
  {
   "cell_type": "code",
   "execution_count": 2,
   "metadata": {},
   "outputs": [],
   "source": [
    "Mean = [118.3075274651622, 105.53828801046244, 97.64862272089236]\n",
    "Std = [15.758138233601338, 73.32240240668409, 70.26765643334008]\n",
    "\n",
    "norm_mean = []\n",
    "for i in Mean:\n",
    "    norm_mean.append(i/256)\n",
    "\n",
    "norm_std = []\n",
    "for j in Std:\n",
    "    norm_std.append(j/256)\n",
    "    "
   ]
  },
  {
   "cell_type": "code",
   "execution_count": 3,
   "metadata": {},
   "outputs": [
    {
     "name": "stdout",
     "output_type": "stream",
     "text": [
      "[0.4621387791607898, 0.4122589375408689, 0.3814399325034858]\n",
      "[0.06155522747500523, 0.28641563440110973, 0.2744830329427347]\n"
     ]
    }
   ],
   "source": [
    "print(norm_mean)\n",
    "print(norm_std)"
   ]
  },
  {
   "cell_type": "code",
   "execution_count": null,
   "metadata": {},
   "outputs": [],
   "source": []
  }
 ],
 "metadata": {
  "kernelspec": {
   "display_name": "Python 3",
   "language": "python",
   "name": "python3"
  },
  "language_info": {
   "codemirror_mode": {
    "name": "ipython",
    "version": 3
   },
   "file_extension": ".py",
   "mimetype": "text/x-python",
   "name": "python",
   "nbconvert_exporter": "python",
   "pygments_lexer": "ipython3",
   "version": "3.6.4"
  }
 },
 "nbformat": 4,
 "nbformat_minor": 2
}
