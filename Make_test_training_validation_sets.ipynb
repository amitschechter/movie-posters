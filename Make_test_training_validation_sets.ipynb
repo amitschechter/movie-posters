{
 "cells": [
  {
   "cell_type": "code",
   "execution_count": 1,
   "metadata": {},
   "outputs": [],
   "source": [
    "import pandas as pd\n",
    "from sklearn.utils import shuffle"
   ]
  },
  {
   "cell_type": "code",
   "execution_count": 2,
   "metadata": {},
   "outputs": [],
   "source": [
    "df_master_list = pd.read_csv('filename_genre_labels.csv')"
   ]
  },
  {
   "cell_type": "code",
   "execution_count": 3,
   "metadata": {},
   "outputs": [
    {
     "name": "stdout",
     "output_type": "stream",
     "text": [
      "3345 955 479\n"
     ]
    }
   ],
   "source": [
    "percent_for_train = .7\n",
    "percent_for_val = .2\n",
    "\n",
    "Total_Images = len(df_master_list)\n",
    "num_train = int(4779 * percent_for_train)\n",
    "num_val = int(4779 * percent_for_val)\n",
    "num_test = Total_Images - num_train - num_val\n",
    "\n",
    "\n",
    "print(num_train, num_val, num_test)"
   ]
  },
  {
   "cell_type": "code",
   "execution_count": 4,
   "metadata": {},
   "outputs": [
    {
     "name": "stdout",
     "output_type": "stream",
     "text": [
      "4779 3345 955 479\n"
     ]
    }
   ],
   "source": [
    "df_shuffled = shuffle(df_master_list[df_master_list.columns[1:]])\n",
    "\n",
    "df_train = df_shuffled.iloc[:num_train, :]\n",
    "\n",
    "df_val = df_shuffled.iloc[num_train:(num_train+num_val), :]\n",
    "\n",
    "df_test = df_shuffled.iloc[(num_train+num_val):, :]\n",
    "\n",
    "print(len(df_shuffled), len(df_train), len(df_val), len(df_test))"
   ]
  },
  {
   "cell_type": "code",
   "execution_count": 6,
   "metadata": {},
   "outputs": [],
   "source": [
    "train_set = df_train.to_csv('Dataset_Training_%s.csv' %(num_train))\n",
    "val_set = df_val.to_csv('Dataset_Validation_%s.csv' %(num_val))\n",
    "test_set = df_val.to_csv('Dataset_Test_%s.csv' %(num_test))"
   ]
  },
  {
   "cell_type": "code",
   "execution_count": null,
   "metadata": {},
   "outputs": [],
   "source": []
  }
 ],
 "metadata": {
  "kernelspec": {
   "display_name": "Python 3",
   "language": "python",
   "name": "python3"
  },
  "language_info": {
   "codemirror_mode": {
    "name": "ipython",
    "version": 3
   },
   "file_extension": ".py",
   "mimetype": "text/x-python",
   "name": "python",
   "nbconvert_exporter": "python",
   "pygments_lexer": "ipython3",
   "version": "3.6.4"
  }
 },
 "nbformat": 4,
 "nbformat_minor": 2
}
